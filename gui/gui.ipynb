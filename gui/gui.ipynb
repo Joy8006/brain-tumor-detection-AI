{
 "cells": [
  {
   "cell_type": "code",
   "execution_count": 1,
   "metadata": {},
   "outputs": [],
   "source": [
    "from PyQt5 import QtWidgets\n",
    "from PyQt5.QtWidgets import QApplication, QMainWindow, QFileDialog\n",
    "import sys"
   ]
  },
  {
   "cell_type": "code",
   "execution_count": 7,
   "metadata": {},
   "outputs": [
    {
     "ename": "SystemExit",
     "evalue": "0",
     "output_type": "error",
     "traceback": [
      "An exception has occurred, use %tb to see the full traceback.\n",
      "\u001b[1;31mSystemExit\u001b[0m\u001b[1;31m:\u001b[0m 0\n"
     ]
    }
   ],
   "source": [
    "\n",
    "class MyWindow(QMainWindow):\n",
    "    def __init__(self):\n",
    "        super(MyWindow, self).__init__()\n",
    "        self.setGeometry(550,150,850,750)\n",
    "        self.setWindowTitle(\"Brain Tumor Detection AI\")\n",
    "        self.initUI()\n",
    "\n",
    "    def initUI(self):\n",
    "        self.label = QtWidgets.QLabel(self)\n",
    "        self.label.setText(\"Brain Tumor Detection System\")\n",
    "        self.label.adjustSize()\n",
    "        self.label.move(230,50)\n",
    "\n",
    "        self.button = QtWidgets.QPushButton(self)\n",
    "        self.button.setText(\"Click me!\")\n",
    "        self.button.clicked.connect(self.clicked)\n",
    "        self.button.move(250,80)\n",
    "    \n",
    "    def clicked(self):\n",
    "        fname = QFileDialog.getOpenFileName(self, 'Open file', 'D:\\\\Machine Learnings\\\\ML_Projects\\\\brain-tumor-detection-AI\\\\Data\\\\pred', 'Images (*.png, *.jpg)')\n",
    "        print(fname[0])\n",
    "    # def update(self):\n",
    "        # print(fname[0])\n",
    "\n",
    "def window():\n",
    "    app = QApplication(sys.argv)\n",
    "    win = MyWindow()\n",
    "    win.show()\n",
    "    sys.exit(app.exec_())\n",
    "\n",
    "window()"
   ]
  }
 ],
 "metadata": {
  "interpreter": {
   "hash": "8860c5a2a70cad65c4a4f551bdb0e44edb7c75fe3e6ee64cbfce63c1c9f89b27"
  },
  "kernelspec": {
   "display_name": "Python 3.9.10 64-bit (windows store)",
   "language": "python",
   "name": "python3"
  },
  "language_info": {
   "codemirror_mode": {
    "name": "ipython",
    "version": 3
   },
   "file_extension": ".py",
   "mimetype": "text/x-python",
   "name": "python",
   "nbconvert_exporter": "python",
   "pygments_lexer": "ipython3",
   "version": "3.9.10"
  },
  "orig_nbformat": 4
 },
 "nbformat": 4,
 "nbformat_minor": 2
}
