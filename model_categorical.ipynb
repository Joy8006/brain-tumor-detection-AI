{
 "cells": [
  {
   "cell_type": "code",
   "execution_count": 1,
   "metadata": {},
   "outputs": [],
   "source": [
    "import cv2\n",
    "import os\n",
    "from PIL import Image\n",
    "import numpy as np\n"
   ]
  },
  {
   "cell_type": "code",
   "execution_count": 2,
   "metadata": {},
   "outputs": [],
   "source": [
    "img_dir = 'Data/'\n",
    "\n",
    "tumor_img = os.listdir(img_dir + 'positive/')\n",
    "non_tumor_img = os.listdir(img_dir + 'negative/')\n"
   ]
  },
  {
   "cell_type": "code",
   "execution_count": 3,
   "metadata": {},
   "outputs": [],
   "source": [
    "dataset = []\n",
    "label = []\n",
    "\n",
    "\n",
    "for i , image_name in enumerate(tumor_img):\n",
    "    if(image_name.split('.')[1] == 'jpg'):\n",
    "        image = cv2.imread(img_dir + 'positive/' + image_name)\n",
    "        image = Image.fromarray(image, 'RGB')\n",
    "        image = image.resize((64, 64))\n",
    "        dataset.append(np.array(image))\n",
    "        label.append(1)\n",
    "\n",
    "for i , image_name in enumerate(non_tumor_img):\n",
    "    if(image_name.split('.')[1] == 'jpg'):\n",
    "        image = cv2.imread(img_dir + 'negative/' + image_name)\n",
    "        image = Image.fromarray(image, 'RGB')\n",
    "        image = image.resize((64, 64))\n",
    "        dataset.append(np.array(image))\n",
    "        label.append(0)\n",
    "        "
   ]
  },
  {
   "cell_type": "code",
   "execution_count": 4,
   "metadata": {},
   "outputs": [
    {
     "name": "stdout",
     "output_type": "stream",
     "text": [
      "3000\n",
      "3000\n"
     ]
    }
   ],
   "source": [
    "print(len(dataset))\n",
    "print(len(label))"
   ]
  },
  {
   "cell_type": "code",
   "execution_count": 5,
   "metadata": {},
   "outputs": [],
   "source": [
    "dataset = np.array(dataset)\n",
    "label = np.array(label)"
   ]
  },
  {
   "cell_type": "code",
   "execution_count": 6,
   "metadata": {},
   "outputs": [],
   "source": [
    "from sklearn.model_selection import train_test_split"
   ]
  },
  {
   "cell_type": "code",
   "execution_count": 7,
   "metadata": {},
   "outputs": [
    {
     "name": "stdout",
     "output_type": "stream",
     "text": [
      "(2400, 64, 64, 3)\n",
      "(600, 64, 64, 3)\n",
      "(2400,)\n",
      "(600,)\n"
     ]
    }
   ],
   "source": [
    "x_train, x_test, y_train, y_test = train_test_split(dataset, label, test_size=0.2, random_state=0)\n",
    "print(x_train.shape)\n",
    "print(x_test.shape)\n",
    "print(y_train.shape)\n",
    "print(y_test.shape)"
   ]
  },
  {
   "cell_type": "code",
   "execution_count": 11,
   "metadata": {},
   "outputs": [],
   "source": [
    "import tensorflow as tf\n",
    "from tensorflow import keras\n",
    "from keras.utils.np_utils import normalize, to_categorical\n",
    "\n",
    "\n",
    "from keras.layers import Conv2D, MaxPooling2D, Activation, Dropout, Flatten, Dense\n"
   ]
  },
  {
   "cell_type": "code",
   "execution_count": 12,
   "metadata": {},
   "outputs": [],
   "source": [
    "x_train = normalize(x_train, axis= 1)\n",
    "x_test = normalize(x_test, axis= 1)\n",
    "y_train = to_categorical(y_train, num_classes= 2)\n",
    "y_test = to_categorical(y_test, num_classes= 2)\n"
   ]
  },
  {
   "cell_type": "code",
   "execution_count": 10,
   "metadata": {},
   "outputs": [],
   "source": [
    "input_size = 64"
   ]
  },
  {
   "cell_type": "code",
   "execution_count": 13,
   "metadata": {},
   "outputs": [],
   "source": [
    "from keras.models import Sequential\n",
    "model = Sequential()\n",
    "\n"
   ]
  },
  {
   "cell_type": "code",
   "execution_count": 14,
   "metadata": {},
   "outputs": [],
   "source": [
    "model.add(Conv2D(32, (3,3),input_shape = (input_size, input_size, 3)))\n",
    "model.add(Activation('relu'))\n",
    "model.add(MaxPooling2D(pool_size=(2,2)))\n",
    "\n",
    "model.add(Conv2D(32, (3,3), kernel_initializer= 'he_uniform'))\n",
    "model.add(Activation('relu'))\n",
    "model.add(MaxPooling2D(pool_size=(2,2)))\n",
    "\n",
    "model.add(Conv2D(64, (3,3), kernel_initializer= 'he_uniform'))\n",
    "model.add(Activation('relu'))\n",
    "model.add(MaxPooling2D(pool_size=(2,2)))\n",
    "model.add(Flatten())\n",
    "model.add(Dense(64))\n",
    "model.add(Activation('relu'))\n",
    "model.add(Dropout(0.5))\n",
    "model.add(Dense(2))\n",
    "model.add(Activation('softmax'))"
   ]
  },
  {
   "cell_type": "code",
   "execution_count": 15,
   "metadata": {},
   "outputs": [],
   "source": [
    "model.compile(loss='categorical_crossentropy', optimizer='adam', metrics=['accuracy'])"
   ]
  },
  {
   "cell_type": "code",
   "execution_count": 16,
   "metadata": {},
   "outputs": [
    {
     "name": "stdout",
     "output_type": "stream",
     "text": [
      "Epoch 1/10\n",
      "150/150 [==============================] - 12s 74ms/step - loss: 0.5515 - accuracy: 0.7200 - val_loss: 0.4736 - val_accuracy: 0.7700\n",
      "Epoch 2/10\n",
      "150/150 [==============================] - 11s 71ms/step - loss: 0.4033 - accuracy: 0.8279 - val_loss: 0.3295 - val_accuracy: 0.8667\n",
      "Epoch 3/10\n",
      "150/150 [==============================] - 10s 66ms/step - loss: 0.2950 - accuracy: 0.8737 - val_loss: 0.2058 - val_accuracy: 0.9133\n",
      "Epoch 4/10\n",
      "150/150 [==============================] - 11s 71ms/step - loss: 0.2091 - accuracy: 0.9196 - val_loss: 0.1760 - val_accuracy: 0.9300\n",
      "Epoch 5/10\n",
      "150/150 [==============================] - 9s 62ms/step - loss: 0.1458 - accuracy: 0.9488 - val_loss: 0.1250 - val_accuracy: 0.9450\n",
      "Epoch 6/10\n",
      "150/150 [==============================] - 9s 62ms/step - loss: 0.0949 - accuracy: 0.9742 - val_loss: 0.1175 - val_accuracy: 0.9650\n",
      "Epoch 7/10\n",
      "150/150 [==============================] - 9s 62ms/step - loss: 0.0686 - accuracy: 0.9775 - val_loss: 0.1302 - val_accuracy: 0.9500\n",
      "Epoch 8/10\n",
      "150/150 [==============================] - 9s 62ms/step - loss: 0.0458 - accuracy: 0.9858 - val_loss: 0.0923 - val_accuracy: 0.9733\n",
      "Epoch 9/10\n",
      "150/150 [==============================] - 10s 65ms/step - loss: 0.0283 - accuracy: 0.9912 - val_loss: 0.0839 - val_accuracy: 0.9750\n",
      "Epoch 10/10\n",
      "150/150 [==============================] - 9s 63ms/step - loss: 0.0154 - accuracy: 0.9962 - val_loss: 0.0916 - val_accuracy: 0.9750\n"
     ]
    }
   ],
   "source": [
    "model.fit(x_train, y_train, batch_size=16, verbose= 1, epochs= 10, validation_data=(x_test,y_test), shuffle= False)\n",
    "model.save('BrainTumor10EpochsCategorical.h5')"
   ]
  }
 ],
 "metadata": {
  "interpreter": {
   "hash": "8860c5a2a70cad65c4a4f551bdb0e44edb7c75fe3e6ee64cbfce63c1c9f89b27"
  },
  "kernelspec": {
   "display_name": "Python 3.9.10 64-bit (windows store)",
   "language": "python",
   "name": "python3"
  },
  "language_info": {
   "codemirror_mode": {
    "name": "ipython",
    "version": 3
   },
   "file_extension": ".py",
   "mimetype": "text/x-python",
   "name": "python",
   "nbconvert_exporter": "python",
   "pygments_lexer": "ipython3",
   "version": "3.9.10"
  },
  "orig_nbformat": 4
 },
 "nbformat": 4,
 "nbformat_minor": 2
}
