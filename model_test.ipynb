{
 "cells": [
  {
   "cell_type": "code",
   "execution_count": 1,
   "metadata": {},
   "outputs": [],
   "source": [
    "import cv2\n",
    "from keras.models import load_model\n",
    "import numpy as np\n",
    "from PIL import Image"
   ]
  },
  {
   "cell_type": "code",
   "execution_count": 2,
   "metadata": {},
   "outputs": [],
   "source": [
    "model = load_model('BrainTumor10Epochs.h5')"
   ]
  },
  {
   "cell_type": "code",
   "execution_count": 7,
   "metadata": {},
   "outputs": [
    {
     "name": "stdout",
     "output_type": "stream",
     "text": [
      "Sorry to say that, you have brain tumor\n"
     ]
    }
   ],
   "source": [
    "image = cv2.imread('D:\\\\Machine Learnings\\\\ML_Projects\\\\brain-tumor-detection-AI\\\\Data\\\\pred\\\\pred7.jpg')\n",
    "img = Image.fromarray(image)\n",
    "image = img.resize((64,64))\n",
    "image = np.array(image)\n",
    "\n",
    "input_image = np.expand_dims(image, axis=0)\n",
    "\n",
    "prediction = model.predict(input_image)\n",
    "if(prediction==1):\n",
    "    print(\"Sorry to say that, you have brain tumor\")\n",
    "elif(prediction==0):\n",
    "    print(\"Congratulations!! You are safe from tumor\")"
   ]
  }
 ],
 "metadata": {
  "interpreter": {
   "hash": "8860c5a2a70cad65c4a4f551bdb0e44edb7c75fe3e6ee64cbfce63c1c9f89b27"
  },
  "kernelspec": {
   "display_name": "Python 3.9.10 64-bit (windows store)",
   "language": "python",
   "name": "python3"
  },
  "language_info": {
   "codemirror_mode": {
    "name": "ipython",
    "version": 3
   },
   "file_extension": ".py",
   "mimetype": "text/x-python",
   "name": "python",
   "nbconvert_exporter": "python",
   "pygments_lexer": "ipython3",
   "version": "3.9.10"
  },
  "orig_nbformat": 4
 },
 "nbformat": 4,
 "nbformat_minor": 2
}
