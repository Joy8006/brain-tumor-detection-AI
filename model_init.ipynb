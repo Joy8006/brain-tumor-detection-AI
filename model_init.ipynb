{
 "cells": [
  {
   "cell_type": "code",
   "execution_count": 2,
   "metadata": {},
   "outputs": [],
   "source": [
    "import cv2\n",
    "import os\n",
    "from PIL import Image\n",
    "import numpy as np\n"
   ]
  },
  {
   "cell_type": "code",
   "execution_count": 3,
   "metadata": {},
   "outputs": [],
   "source": [
    "img_dir = 'Data/'\n",
    "\n",
    "tumor_img = os.listdir(img_dir + 'positive/')\n",
    "non_tumor_img = os.listdir(img_dir + 'negative/')\n"
   ]
  },
  {
   "cell_type": "code",
   "execution_count": 4,
   "metadata": {},
   "outputs": [],
   "source": [
    "dataset = []\n",
    "label = []\n",
    "\n",
    "\n",
    "for i , image_name in enumerate(tumor_img):\n",
    "    if(image_name.split('.')[1] == 'jpg'):\n",
    "        image = cv2.imread(img_dir + 'positive/' + image_name)\n",
    "        image = Image.fromarray(image, 'RGB')\n",
    "        image = image.resize((64, 64))\n",
    "        dataset.append(np.array(image))\n",
    "        label.append(1)\n",
    "\n",
    "for i , image_name in enumerate(non_tumor_img):\n",
    "    if(image_name.split('.')[1] == 'jpg'):\n",
    "        image = cv2.imread(img_dir + 'negative/' + image_name)\n",
    "        image = Image.fromarray(image, 'RGB')\n",
    "        image = image.resize((64, 64))\n",
    "        dataset.append(np.array(image))\n",
    "        label.append(0)\n",
    "        "
   ]
  },
  {
   "cell_type": "code",
   "execution_count": 5,
   "metadata": {},
   "outputs": [
    {
     "name": "stdout",
     "output_type": "stream",
     "text": [
      "3000\n",
      "3000\n"
     ]
    }
   ],
   "source": [
    "print(len(dataset))\n",
    "print(len(label))"
   ]
  },
  {
   "cell_type": "code",
   "execution_count": 6,
   "metadata": {},
   "outputs": [],
   "source": [
    "dataset = np.array(dataset)\n",
    "label = np.array(label)"
   ]
  },
  {
   "cell_type": "code",
   "execution_count": 7,
   "metadata": {},
   "outputs": [],
   "source": [
    "from sklearn.model_selection import train_test_split"
   ]
  },
  {
   "cell_type": "code",
   "execution_count": 8,
   "metadata": {},
   "outputs": [
    {
     "name": "stdout",
     "output_type": "stream",
     "text": [
      "(2400, 64, 64, 3)\n",
      "(600, 64, 64, 3)\n",
      "(2400,)\n",
      "(600,)\n"
     ]
    }
   ],
   "source": [
    "x_train, x_test, y_train, y_test = train_test_split(dataset, label, test_size=0.2, random_state=0)\n",
    "print(x_train.shape)\n",
    "print(x_test.shape)\n",
    "print(y_train.shape)\n",
    "print(y_test.shape)"
   ]
  },
  {
   "cell_type": "code",
   "execution_count": 10,
   "metadata": {},
   "outputs": [],
   "source": [
    "import tensorflow as tf\n",
    "from tensorflow import keras\n",
    "from keras.utils.np_utils import normalize\n",
    "\n",
    "\n",
    "from keras.layers import Conv2D, MaxPooling2D, Activation, Dropout, Flatten, Dense\n"
   ]
  },
  {
   "cell_type": "code",
   "execution_count": 11,
   "metadata": {},
   "outputs": [],
   "source": [
    "x_train = normalize(x_train, axis= 1)\n",
    "x_test = normalize(x_test, axis= 1)\n"
   ]
  },
  {
   "cell_type": "code",
   "execution_count": 12,
   "metadata": {},
   "outputs": [],
   "source": [
    "input_size = 64"
   ]
  },
  {
   "cell_type": "code",
   "execution_count": 14,
   "metadata": {},
   "outputs": [],
   "source": [
    "from keras.models import Sequential\n",
    "model = Sequential()\n",
    "\n"
   ]
  },
  {
   "cell_type": "code",
   "execution_count": 15,
   "metadata": {},
   "outputs": [],
   "source": [
    "model.add(Conv2D(32, (3,3),input_shape = (input_size, input_size, 3)))\n",
    "model.add(Activation('relu'))\n",
    "model.add(MaxPooling2D(pool_size=(2,2)))\n",
    "\n",
    "model.add(Conv2D(32, (3,3), kernel_initializer= 'he_uniform'))\n",
    "model.add(Activation('relu'))\n",
    "model.add(MaxPooling2D(pool_size=(2,2)))\n",
    "\n",
    "model.add(Conv2D(64, (3,3), kernel_initializer= 'he_uniform'))\n",
    "model.add(Activation('relu'))\n",
    "model.add(MaxPooling2D(pool_size=(2,2)))\n",
    "model.add(Flatten())\n",
    "model.add(Dense(64))\n",
    "model.add(Activation('relu'))\n",
    "model.add(Dropout(0.5))\n",
    "model.add(Dense(2))\n",
    "model.add(Activation('sigmoid'))"
   ]
  },
  {
   "cell_type": "code",
   "execution_count": 16,
   "metadata": {},
   "outputs": [],
   "source": [
    "model.compile(loss='binary_crossentropy', optimizer='adam', metrics=['accuracy'])"
   ]
  },
  {
   "cell_type": "code",
   "execution_count": 17,
   "metadata": {},
   "outputs": [
    {
     "name": "stdout",
     "output_type": "stream",
     "text": [
      "Epoch 1/10\n",
      "150/150 [==============================] - 16s 101ms/step - loss: 0.5430 - accuracy: 0.7233 - val_loss: 0.4404 - val_accuracy: 0.8117\n",
      "Epoch 2/10\n",
      "150/150 [==============================] - 15s 100ms/step - loss: 0.3877 - accuracy: 0.8342 - val_loss: 0.3216 - val_accuracy: 0.8600\n",
      "Epoch 3/10\n",
      "150/150 [==============================] - 16s 105ms/step - loss: 0.2830 - accuracy: 0.8846 - val_loss: 0.2352 - val_accuracy: 0.9017\n",
      "Epoch 4/10\n",
      "150/150 [==============================] - 16s 105ms/step - loss: 0.2001 - accuracy: 0.9304 - val_loss: 0.1821 - val_accuracy: 0.9333\n",
      "Epoch 5/10\n",
      "150/150 [==============================] - 16s 106ms/step - loss: 0.1192 - accuracy: 0.9604 - val_loss: 0.1227 - val_accuracy: 0.9567\n",
      "Epoch 6/10\n",
      "150/150 [==============================] - 16s 109ms/step - loss: 0.1003 - accuracy: 0.9675 - val_loss: 0.1165 - val_accuracy: 0.9567\n",
      "Epoch 7/10\n",
      "150/150 [==============================] - 15s 98ms/step - loss: 0.0586 - accuracy: 0.9821 - val_loss: 0.0878 - val_accuracy: 0.9717\n",
      "Epoch 8/10\n",
      "150/150 [==============================] - 13s 90ms/step - loss: 0.0424 - accuracy: 0.9862 - val_loss: 0.1169 - val_accuracy: 0.9550\n",
      "Epoch 9/10\n",
      "150/150 [==============================] - 14s 94ms/step - loss: 0.0240 - accuracy: 0.9937 - val_loss: 0.0972 - val_accuracy: 0.9733\n",
      "Epoch 10/10\n",
      "150/150 [==============================] - 10s 65ms/step - loss: 0.0216 - accuracy: 0.9929 - val_loss: 0.1170 - val_accuracy: 0.9733\n"
     ]
    }
   ],
   "source": [
    "model.fit(x_train, y_train, batch_size=16, verbose= 1, epochs= 10, validation_data=(x_test,y_test), shuffle= False)\n",
    "model.save('BrainTumor10Epochs.h5')"
   ]
  }
 ],
 "metadata": {
  "interpreter": {
   "hash": "8860c5a2a70cad65c4a4f551bdb0e44edb7c75fe3e6ee64cbfce63c1c9f89b27"
  },
  "kernelspec": {
   "display_name": "Python 3.9.10 64-bit (windows store)",
   "language": "python",
   "name": "python3"
  },
  "language_info": {
   "codemirror_mode": {
    "name": "ipython",
    "version": 3
   },
   "file_extension": ".py",
   "mimetype": "text/x-python",
   "name": "python",
   "nbconvert_exporter": "python",
   "pygments_lexer": "ipython3",
   "version": "3.9.10"
  },
  "orig_nbformat": 4
 },
 "nbformat": 4,
 "nbformat_minor": 2
}
